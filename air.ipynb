{
 "cells": [
  {
   "cell_type": "code",
   "execution_count": 1,
   "metadata": {},
   "outputs": [],
   "source": [
    "import pandas as pd\n",
    "pd.set_option(\"display.max_columns\",None)\n",
    "import warnings\n",
    "warnings.filterwarnings(\"ignore\")"
   ]
  },
  {
   "cell_type": "code",
   "execution_count": null,
   "metadata": {},
   "outputs": [],
   "source": [
    "data=pd.read_json(r\"C:\\Users\\ss996\\OneDrive\\Desktop\\Projects\\P3-Airbnb\\sample_airbnb.json\")\n",
    "data"
   ]
  },
  {
   "cell_type": "code",
   "execution_count": 3,
   "metadata": {},
   "outputs": [],
   "source": [
    "data[\"images\"]= data[\"images\"].apply(lambda x: x[\"picture_url\"])"
   ]
  },
  {
   "cell_type": "code",
   "execution_count": 4,
   "metadata": {},
   "outputs": [],
   "source": [
    "data[\"review_scores\"]= data[\"review_scores\"].apply(lambda x: x.get(\"review_scores_rating\",0))"
   ]
  },
  {
   "cell_type": "code",
   "execution_count": null,
   "metadata": {},
   "outputs": [],
   "source": [
    "data"
   ]
  },
  {
   "cell_type": "code",
   "execution_count": 6,
   "metadata": {},
   "outputs": [
    {
     "data": {
      "text/html": [
       "<div>\n",
       "<style scoped>\n",
       "    .dataframe tbody tr th:only-of-type {\n",
       "        vertical-align: middle;\n",
       "    }\n",
       "\n",
       "    .dataframe tbody tr th {\n",
       "        vertical-align: top;\n",
       "    }\n",
       "\n",
       "    .dataframe thead th {\n",
       "        text-align: right;\n",
       "    }\n",
       "</style>\n",
       "<table border=\"1\" class=\"dataframe\">\n",
       "  <thead>\n",
       "    <tr style=\"text-align: right;\">\n",
       "      <th></th>\n",
       "      <th>_id</th>\n",
       "      <th>minimum_nights</th>\n",
       "      <th>maximum_nights</th>\n",
       "      <th>accommodates</th>\n",
       "      <th>bedrooms</th>\n",
       "      <th>beds</th>\n",
       "      <th>number_of_reviews</th>\n",
       "      <th>bathrooms</th>\n",
       "      <th>price</th>\n",
       "      <th>security_deposit</th>\n",
       "      <th>cleaning_fee</th>\n",
       "      <th>extra_people</th>\n",
       "      <th>guests_included</th>\n",
       "      <th>review_scores</th>\n",
       "      <th>weekly_price</th>\n",
       "      <th>monthly_price</th>\n",
       "      <th>reviews_per_month</th>\n",
       "    </tr>\n",
       "  </thead>\n",
       "  <tbody>\n",
       "    <tr>\n",
       "      <th>count</th>\n",
       "      <td>5.555000e+03</td>\n",
       "      <td>5555.000000</td>\n",
       "      <td>5.555000e+03</td>\n",
       "      <td>5555.000000</td>\n",
       "      <td>5550.000000</td>\n",
       "      <td>5542.000000</td>\n",
       "      <td>5555.000000</td>\n",
       "      <td>5545.000000</td>\n",
       "      <td>5555.000000</td>\n",
       "      <td>3471.000000</td>\n",
       "      <td>4024.000000</td>\n",
       "      <td>5555.000000</td>\n",
       "      <td>5555.000000</td>\n",
       "      <td>5555.000000</td>\n",
       "      <td>714.000000</td>\n",
       "      <td>656.000000</td>\n",
       "      <td>94.000000</td>\n",
       "    </tr>\n",
       "    <tr>\n",
       "      <th>mean</th>\n",
       "      <td>1.664386e+07</td>\n",
       "      <td>5.564356</td>\n",
       "      <td>1.382776e+06</td>\n",
       "      <td>3.505851</td>\n",
       "      <td>1.411712</td>\n",
       "      <td>2.071454</td>\n",
       "      <td>27.606481</td>\n",
       "      <td>1.291163</td>\n",
       "      <td>278.766157</td>\n",
       "      <td>509.430424</td>\n",
       "      <td>94.074801</td>\n",
       "      <td>22.791899</td>\n",
       "      <td>1.747435</td>\n",
       "      <td>68.395680</td>\n",
       "      <td>1530.903361</td>\n",
       "      <td>5391.370427</td>\n",
       "      <td>1.712766</td>\n",
       "    </tr>\n",
       "    <tr>\n",
       "      <th>std</th>\n",
       "      <td>9.622558e+06</td>\n",
       "      <td>22.613861</td>\n",
       "      <td>5.256920e+07</td>\n",
       "      <td>2.297019</td>\n",
       "      <td>1.041942</td>\n",
       "      <td>1.619660</td>\n",
       "      <td>49.798376</td>\n",
       "      <td>0.702265</td>\n",
       "      <td>842.215531</td>\n",
       "      <td>1594.805320</td>\n",
       "      <td>110.203782</td>\n",
       "      <td>69.331511</td>\n",
       "      <td>1.487352</td>\n",
       "      <td>41.829834</td>\n",
       "      <td>3185.916331</td>\n",
       "      <td>12723.569651</td>\n",
       "      <td>1.492795</td>\n",
       "    </tr>\n",
       "    <tr>\n",
       "      <th>min</th>\n",
       "      <td>1.170800e+04</td>\n",
       "      <td>1.000000</td>\n",
       "      <td>1.000000e+00</td>\n",
       "      <td>1.000000</td>\n",
       "      <td>0.000000</td>\n",
       "      <td>0.000000</td>\n",
       "      <td>0.000000</td>\n",
       "      <td>0.000000</td>\n",
       "      <td>9.000000</td>\n",
       "      <td>0.000000</td>\n",
       "      <td>0.000000</td>\n",
       "      <td>0.000000</td>\n",
       "      <td>1.000000</td>\n",
       "      <td>0.000000</td>\n",
       "      <td>60.000000</td>\n",
       "      <td>250.000000</td>\n",
       "      <td>1.000000</td>\n",
       "    </tr>\n",
       "    <tr>\n",
       "      <th>25%</th>\n",
       "      <td>8.376039e+06</td>\n",
       "      <td>1.000000</td>\n",
       "      <td>5.900000e+01</td>\n",
       "      <td>2.000000</td>\n",
       "      <td>1.000000</td>\n",
       "      <td>1.000000</td>\n",
       "      <td>1.000000</td>\n",
       "      <td>1.000000</td>\n",
       "      <td>70.000000</td>\n",
       "      <td>0.000000</td>\n",
       "      <td>23.000000</td>\n",
       "      <td>0.000000</td>\n",
       "      <td>1.000000</td>\n",
       "      <td>0.000000</td>\n",
       "      <td>480.250000</td>\n",
       "      <td>1505.250000</td>\n",
       "      <td>1.000000</td>\n",
       "    </tr>\n",
       "    <tr>\n",
       "      <th>50%</th>\n",
       "      <td>1.711345e+07</td>\n",
       "      <td>2.000000</td>\n",
       "      <td>1.125000e+03</td>\n",
       "      <td>3.000000</td>\n",
       "      <td>1.000000</td>\n",
       "      <td>2.000000</td>\n",
       "      <td>5.000000</td>\n",
       "      <td>1.000000</td>\n",
       "      <td>129.000000</td>\n",
       "      <td>200.000000</td>\n",
       "      <td>60.000000</td>\n",
       "      <td>0.000000</td>\n",
       "      <td>1.000000</td>\n",
       "      <td>92.000000</td>\n",
       "      <td>800.000000</td>\n",
       "      <td>2800.000000</td>\n",
       "      <td>1.000000</td>\n",
       "    </tr>\n",
       "    <tr>\n",
       "      <th>75%</th>\n",
       "      <td>2.461229e+07</td>\n",
       "      <td>3.000000</td>\n",
       "      <td>1.125000e+03</td>\n",
       "      <td>4.000000</td>\n",
       "      <td>2.000000</td>\n",
       "      <td>3.000000</td>\n",
       "      <td>32.000000</td>\n",
       "      <td>1.000000</td>\n",
       "      <td>280.000000</td>\n",
       "      <td>500.000000</td>\n",
       "      <td>129.000000</td>\n",
       "      <td>20.000000</td>\n",
       "      <td>2.000000</td>\n",
       "      <td>98.000000</td>\n",
       "      <td>1575.250000</td>\n",
       "      <td>4800.000000</td>\n",
       "      <td>2.000000</td>\n",
       "    </tr>\n",
       "    <tr>\n",
       "      <th>max</th>\n",
       "      <td>3.295874e+07</td>\n",
       "      <td>1250.000000</td>\n",
       "      <td>2.147484e+09</td>\n",
       "      <td>16.000000</td>\n",
       "      <td>20.000000</td>\n",
       "      <td>25.000000</td>\n",
       "      <td>533.000000</td>\n",
       "      <td>16.000000</td>\n",
       "      <td>48842.000000</td>\n",
       "      <td>39228.000000</td>\n",
       "      <td>2000.000000</td>\n",
       "      <td>2346.000000</td>\n",
       "      <td>16.000000</td>\n",
       "      <td>100.000000</td>\n",
       "      <td>59123.000000</td>\n",
       "      <td>253384.000000</td>\n",
       "      <td>10.000000</td>\n",
       "    </tr>\n",
       "  </tbody>\n",
       "</table>\n",
       "</div>"
      ],
      "text/plain": [
       "                _id  minimum_nights  maximum_nights  accommodates  \\\n",
       "count  5.555000e+03     5555.000000    5.555000e+03   5555.000000   \n",
       "mean   1.664386e+07        5.564356    1.382776e+06      3.505851   \n",
       "std    9.622558e+06       22.613861    5.256920e+07      2.297019   \n",
       "min    1.170800e+04        1.000000    1.000000e+00      1.000000   \n",
       "25%    8.376039e+06        1.000000    5.900000e+01      2.000000   \n",
       "50%    1.711345e+07        2.000000    1.125000e+03      3.000000   \n",
       "75%    2.461229e+07        3.000000    1.125000e+03      4.000000   \n",
       "max    3.295874e+07     1250.000000    2.147484e+09     16.000000   \n",
       "\n",
       "          bedrooms         beds  number_of_reviews    bathrooms         price  \\\n",
       "count  5550.000000  5542.000000        5555.000000  5545.000000   5555.000000   \n",
       "mean      1.411712     2.071454          27.606481     1.291163    278.766157   \n",
       "std       1.041942     1.619660          49.798376     0.702265    842.215531   \n",
       "min       0.000000     0.000000           0.000000     0.000000      9.000000   \n",
       "25%       1.000000     1.000000           1.000000     1.000000     70.000000   \n",
       "50%       1.000000     2.000000           5.000000     1.000000    129.000000   \n",
       "75%       2.000000     3.000000          32.000000     1.000000    280.000000   \n",
       "max      20.000000    25.000000         533.000000    16.000000  48842.000000   \n",
       "\n",
       "       security_deposit  cleaning_fee  extra_people  guests_included  \\\n",
       "count       3471.000000   4024.000000   5555.000000      5555.000000   \n",
       "mean         509.430424     94.074801     22.791899         1.747435   \n",
       "std         1594.805320    110.203782     69.331511         1.487352   \n",
       "min            0.000000      0.000000      0.000000         1.000000   \n",
       "25%            0.000000     23.000000      0.000000         1.000000   \n",
       "50%          200.000000     60.000000      0.000000         1.000000   \n",
       "75%          500.000000    129.000000     20.000000         2.000000   \n",
       "max        39228.000000   2000.000000   2346.000000        16.000000   \n",
       "\n",
       "       review_scores  weekly_price  monthly_price  reviews_per_month  \n",
       "count    5555.000000    714.000000     656.000000          94.000000  \n",
       "mean       68.395680   1530.903361    5391.370427           1.712766  \n",
       "std        41.829834   3185.916331   12723.569651           1.492795  \n",
       "min         0.000000     60.000000     250.000000           1.000000  \n",
       "25%         0.000000    480.250000    1505.250000           1.000000  \n",
       "50%        92.000000    800.000000    2800.000000           1.000000  \n",
       "75%        98.000000   1575.250000    4800.000000           2.000000  \n",
       "max       100.000000  59123.000000  253384.000000          10.000000  "
      ]
     },
     "execution_count": 6,
     "metadata": {},
     "output_type": "execute_result"
    }
   ],
   "source": [
    "data.describe()"
   ]
  },
  {
   "cell_type": "code",
   "execution_count": null,
   "metadata": {},
   "outputs": [],
   "source": [
    "data.describe().T"
   ]
  },
  {
   "cell_type": "code",
   "execution_count": null,
   "metadata": {},
   "outputs": [],
   "source": [
    "data.isnull().sum()"
   ]
  },
  {
   "cell_type": "markdown",
   "metadata": {},
   "source": [
    "# Handling the Null Vaulues:\n",
    "\n",
    "The Null Values Feauturs are \n",
    "first_review\n",
    "last_review\n",
    "bedrooms                    \n",
    "beds  \n",
    "cleaning_fee\n",
    "security_deposit \n",
    "weekly_price             \n",
    "monthly_price            \n",
    "reviews_per_month                       "
   ]
  },
  {
   "cell_type": "code",
   "execution_count": 9,
   "metadata": {},
   "outputs": [],
   "source": [
    "data[\"first_review\"].fillna(0,inplace= True)\n",
    "data[\"last_review\"].fillna(0,inplace= True)\n",
    "data[\"bedrooms\"].fillna(0,inplace= True)\n",
    "data[\"bathrooms\"].fillna(0,inplace= True)\n",
    "data[\"beds\"].fillna(0,inplace= True)\n",
    "data[\"cleaning_fee\"].fillna(0,inplace= True)\n",
    "data[\"security_deposit\"].fillna(0,inplace= True)\n",
    "data[\"weekly_price\"].fillna(0,inplace= True)\n",
    "data[\"monthly_price\"].fillna(0,inplace= True)\n",
    "data[\"reviews_per_month\"].fillna(0,inplace= True)"
   ]
  },
  {
   "cell_type": "code",
   "execution_count": null,
   "metadata": {},
   "outputs": [],
   "source": [
    "data.isnull().sum()"
   ]
  },
  {
   "cell_type": "code",
   "execution_count": null,
   "metadata": {},
   "outputs": [],
   "source": [
    "data"
   ]
  },
  {
   "cell_type": "code",
   "execution_count": null,
   "metadata": {},
   "outputs": [],
   "source": [
    "# Handling the datatypes"
   ]
  },
  {
   "cell_type": "code",
   "execution_count": null,
   "metadata": {},
   "outputs": [],
   "source": [
    "data.head()"
   ]
  },
  {
   "cell_type": "code",
   "execution_count": null,
   "metadata": {},
   "outputs": [],
   "source": [
    "data.dtypes"
   ]
  },
  {
   "cell_type": "code",
   "execution_count": 14,
   "metadata": {},
   "outputs": [],
   "source": [
    "data[\"minimum_nights\"]= data[\"minimum_nights\"].astype(int)\n",
    "data[\"maximum_nights\"]= data[\"maximum_nights\"].astype(int)\n",
    "data[\"bedrooms\"]= data[\"bedrooms\"].astype(int)\n",
    "data[\"beds\"]= data[\"beds\"].astype(int)\n",
    "data[\"bathrooms\"]= data[\"bathrooms\"].astype(str).astype(float).astype(int)\n",
    "data[\"price\"]= data[\"price\"].astype(str).astype(float).astype(int)\n",
    "data[\"extra_people\"]= data[\"extra_people\"].astype(str).astype(float).astype(int)\n",
    "data[\"guests_included\"]= data[\"guests_included\"].astype(str).astype(float).astype(int)\n",
    "data[\"cleaning_fee\"]= data[\"cleaning_fee\"].astype(str).astype(float).astype(int)"
   ]
  },
  {
   "cell_type": "code",
   "execution_count": null,
   "metadata": {},
   "outputs": [],
   "source": [
    "data.dtypes"
   ]
  },
  {
   "cell_type": "code",
   "execution_count": 16,
   "metadata": {},
   "outputs": [],
   "source": [
    "coll=data.columns.unique()"
   ]
  },
  {
   "cell_type": "code",
   "execution_count": 17,
   "metadata": {},
   "outputs": [],
   "source": [
    "# Collect the Host Details\n",
    "host= []\n",
    "for i in coll:\n",
    "    host.append(i)"
   ]
  },
  {
   "cell_type": "code",
   "execution_count": null,
   "metadata": {},
   "outputs": [],
   "source": [
    "df_host=pd.DataFrame(host)\n",
    "df_host"
   ]
  },
  {
   "cell_type": "code",
   "execution_count": 19,
   "metadata": {},
   "outputs": [],
   "source": [
    "host_columns= {'_id':[],'host_id':[], 'host_url':[], 'host_name':[], 'host_location':[],\"host_response_time\":[], 'host_thumbnail_url':[],\n",
    "                'host_picture_url':[], 'host_neighbourhood':[], 'host_response_rate':[], 'host_is_superhost':[], 'host_has_profile_pic':[],\n",
    "                  'host_identity_verified':[], 'host_listings_count':[], 'host_total_listings_count':[], 'host_verifications':[]}\n",
    "\n",
    "for i in data[\"_id\"]:\n",
    "    host_columns[\"_id\"].append(i)\n",
    "for i in data[\"host\"]:\n",
    "    host_columns[\"host_id\"].append(i[\"host_id\"])\n",
    "    host_columns[\"host_url\"].append(i[\"host_url\"])\n",
    "    host_columns[\"host_name\"].append(i[\"host_name\"])\n",
    "    host_columns[\"host_location\"].append(i[\"host_location\"])\n",
    "    host_columns[\"host_response_time\"].append(i.get(\"host_response_time\"))\n",
    "    host_columns[\"host_thumbnail_url\"].append(i[\"host_thumbnail_url\"])\n",
    "    host_columns[\"host_picture_url\"].append(i[\"host_picture_url\"])\n",
    "    host_columns[\"host_neighbourhood\"].append(i[\"host_neighbourhood\"])\n",
    "    host_columns[\"host_response_rate\"].append(i.get(\"host_response_rate\"))\n",
    "    host_columns[\"host_is_superhost\"].append(i[\"host_is_superhost\"])\n",
    "    host_columns[\"host_has_profile_pic\"].append(i[\"host_has_profile_pic\"])\n",
    "    host_columns[\"host_identity_verified\"].append(i[\"host_identity_verified\"])\n",
    "    host_columns[\"host_listings_count\"].append(i[\"host_listings_count\"])\n",
    "    host_columns[\"host_total_listings_count\"].append(i[\"host_total_listings_count\"])\n",
    "    host_columns[\"host_verifications\"].append(i[\"host_verifications\"])"
   ]
  },
  {
   "cell_type": "code",
   "execution_count": 20,
   "metadata": {},
   "outputs": [],
   "source": [
    "df_host_1= pd.DataFrame(host_columns)"
   ]
  },
  {
   "cell_type": "code",
   "execution_count": null,
   "metadata": {},
   "outputs": [],
   "source": [
    "df_host_1.head()"
   ]
  },
  {
   "cell_type": "code",
   "execution_count": null,
   "metadata": {},
   "outputs": [],
   "source": [
    "df_host_1.isnull().sum()"
   ]
  },
  {
   "cell_type": "code",
   "execution_count": 23,
   "metadata": {},
   "outputs": [],
   "source": [
    "# host_neighbourhood have more empty values ('')\n",
    "# Finding the how many values are empty\n",
    "list_index= []\n",
    "for index,row in df_host_1.iterrows():\n",
    "    if row[\"host_neighbourhood\"] =='':\n",
    "        list_index.append(index)"
   ]
  },
  {
   "cell_type": "code",
   "execution_count": 24,
   "metadata": {},
   "outputs": [
    {
     "data": {
      "text/plain": [
       "1923"
      ]
     },
     "execution_count": 24,
     "metadata": {},
     "output_type": "execute_result"
    }
   ],
   "source": [
    "len(list_index)"
   ]
  },
  {
   "cell_type": "code",
   "execution_count": 25,
   "metadata": {},
   "outputs": [],
   "source": [
    "# Handling the Null values and empty values for \"host\"\n",
    "df_host_1[\"host_response_time\"].fillna(\"Not Specified\",inplace= True)\n",
    "df_host_1[\"host_response_rate\"].fillna(\"Not Specified\",inplace= True)\n",
    "df_host_1[\"host_neighbourhood\"]= df_host_1[\"host_neighbourhood\"].replace({'':\"Not Specified\"})"
   ]
  },
  {
   "cell_type": "code",
   "execution_count": null,
   "metadata": {},
   "outputs": [],
   "source": [
    "df_host_1.isnull().sum()"
   ]
  },
  {
   "cell_type": "code",
   "execution_count": null,
   "metadata": {},
   "outputs": [],
   "source": [
    "df_host_1"
   ]
  },
  {
   "cell_type": "code",
   "execution_count": 28,
   "metadata": {},
   "outputs": [],
   "source": [
    "# Changing the \"True\" or \"False\" features\n",
    "\n",
    "df_host_1[\"host_is_superhost\"]= df_host_1[\"host_is_superhost\"].map({False: \"No\", True: \"Yes\"})\n",
    "df_host_1[\"host_has_profile_pic\"]= df_host_1[\"host_has_profile_pic\"].map({False: \"No\", True: \"Yes\"})\n",
    "df_host_1[\"host_identity_verified\"]= df_host_1[\"host_identity_verified\"].map({False: \"No\", True: \"Yes\"})"
   ]
  },
  {
   "cell_type": "code",
   "execution_count": null,
   "metadata": {},
   "outputs": [],
   "source": [
    "df_host_1.head()"
   ]
  },
  {
   "cell_type": "code",
   "execution_count": null,
   "metadata": {},
   "outputs": [],
   "source": [
    "data[\"address\"]"
   ]
  },
  {
   "cell_type": "code",
   "execution_count": 31,
   "metadata": {},
   "outputs": [],
   "source": [
    "df_address=pd.DataFrame(data[\"address\"])"
   ]
  },
  {
   "cell_type": "code",
   "execution_count": 32,
   "metadata": {},
   "outputs": [
    {
     "data": {
      "text/html": [
       "<div>\n",
       "<style scoped>\n",
       "    .dataframe tbody tr th:only-of-type {\n",
       "        vertical-align: middle;\n",
       "    }\n",
       "\n",
       "    .dataframe tbody tr th {\n",
       "        vertical-align: top;\n",
       "    }\n",
       "\n",
       "    .dataframe thead th {\n",
       "        text-align: right;\n",
       "    }\n",
       "</style>\n",
       "<table border=\"1\" class=\"dataframe\">\n",
       "  <thead>\n",
       "    <tr style=\"text-align: right;\">\n",
       "      <th></th>\n",
       "      <th>address</th>\n",
       "    </tr>\n",
       "  </thead>\n",
       "  <tbody>\n",
       "    <tr>\n",
       "      <th>0</th>\n",
       "      <td>{'street': 'New York, NY, United States', 'sub...</td>\n",
       "    </tr>\n",
       "    <tr>\n",
       "      <th>1</th>\n",
       "      <td>{'street': 'Fatih , İstanbul, Turkey', 'suburb...</td>\n",
       "    </tr>\n",
       "    <tr>\n",
       "      <th>2</th>\n",
       "      <td>{'street': 'Hong Kong, Hong Kong Island, Hong ...</td>\n",
       "    </tr>\n",
       "    <tr>\n",
       "      <th>3</th>\n",
       "      <td>{'street': 'Hong Kong , 九龍, Hong Kong', 'subur...</td>\n",
       "    </tr>\n",
       "    <tr>\n",
       "      <th>4</th>\n",
       "      <td>{'street': 'Surry Hills, NSW, Australia', 'sub...</td>\n",
       "    </tr>\n",
       "  </tbody>\n",
       "</table>\n",
       "</div>"
      ],
      "text/plain": [
       "                                             address\n",
       "0  {'street': 'New York, NY, United States', 'sub...\n",
       "1  {'street': 'Fatih , İstanbul, Turkey', 'suburb...\n",
       "2  {'street': 'Hong Kong, Hong Kong Island, Hong ...\n",
       "3  {'street': 'Hong Kong , 九龍, Hong Kong', 'subur...\n",
       "4  {'street': 'Surry Hills, NSW, Australia', 'sub..."
      ]
     },
     "execution_count": 32,
     "metadata": {},
     "output_type": "execute_result"
    }
   ],
   "source": [
    "df_address.head()"
   ]
  },
  {
   "cell_type": "code",
   "execution_count": 33,
   "metadata": {},
   "outputs": [],
   "source": [
    "address_columns = {\n",
    "    '_id': [], 'street': [], 'suburb': [], 'government_area': [], 'market': [], 'country': [],\n",
    "    'country_code': [], 'location_type': [], \"longitude\": [], \"latitude\": [],\n",
    "    \"is_location_exact\": []\n",
    "}\n",
    "\n",
    "# Populate the address_columns dictionary\n",
    "for entry in data[\"_id\"]:\n",
    "    address_columns[\"_id\"].append(entry)\n",
    "for entry in data[\"address\"]:\n",
    "    address_columns['street'].append(entry['street'])\n",
    "    address_columns[\"suburb\"].append(entry[\"suburb\"])\n",
    "    address_columns[\"government_area\"].append(entry[\"government_area\"])\n",
    "    address_columns[\"market\"].append(entry[\"market\"])\n",
    "    address_columns[\"country\"].append(entry[\"country\"])\n",
    "    address_columns[\"country_code\"].append(entry[\"country_code\"])\n",
    "    address_columns[\"location_type\"].append(entry[\"location\"][\"type\"])\n",
    "    address_columns[\"longitude\"].append(entry[\"location\"][\"coordinates\"][0])\n",
    "    address_columns[\"latitude\"].append(entry[\"location\"][\"coordinates\"][1])\n",
    "    address_columns[\"is_location_exact\"].append(entry[\"location\"][\"is_location_exact\"])\n",
    "\n"
   ]
  },
  {
   "cell_type": "code",
   "execution_count": 34,
   "metadata": {},
   "outputs": [],
   "source": [
    "df_address=pd.DataFrame(address_columns)"
   ]
  },
  {
   "cell_type": "code",
   "execution_count": 35,
   "metadata": {},
   "outputs": [
    {
     "data": {
      "text/html": [
       "<div>\n",
       "<style scoped>\n",
       "    .dataframe tbody tr th:only-of-type {\n",
       "        vertical-align: middle;\n",
       "    }\n",
       "\n",
       "    .dataframe tbody tr th {\n",
       "        vertical-align: top;\n",
       "    }\n",
       "\n",
       "    .dataframe thead th {\n",
       "        text-align: right;\n",
       "    }\n",
       "</style>\n",
       "<table border=\"1\" class=\"dataframe\">\n",
       "  <thead>\n",
       "    <tr style=\"text-align: right;\">\n",
       "      <th></th>\n",
       "      <th>_id</th>\n",
       "      <th>street</th>\n",
       "      <th>suburb</th>\n",
       "      <th>government_area</th>\n",
       "      <th>market</th>\n",
       "      <th>country</th>\n",
       "      <th>country_code</th>\n",
       "      <th>location_type</th>\n",
       "      <th>longitude</th>\n",
       "      <th>latitude</th>\n",
       "      <th>is_location_exact</th>\n",
       "    </tr>\n",
       "  </thead>\n",
       "  <tbody>\n",
       "    <tr>\n",
       "      <th>0</th>\n",
       "      <td>1003530</td>\n",
       "      <td>New York, NY, United States</td>\n",
       "      <td>Manhattan</td>\n",
       "      <td>Upper West Side</td>\n",
       "      <td>New York</td>\n",
       "      <td>United States</td>\n",
       "      <td>US</td>\n",
       "      <td>Point</td>\n",
       "      <td>-73.96523</td>\n",
       "      <td>40.79962</td>\n",
       "      <td>False</td>\n",
       "    </tr>\n",
       "    <tr>\n",
       "      <th>1</th>\n",
       "      <td>10133554</td>\n",
       "      <td>Fatih , İstanbul, Turkey</td>\n",
       "      <td>Fatih</td>\n",
       "      <td>Fatih</td>\n",
       "      <td>Istanbul</td>\n",
       "      <td>Turkey</td>\n",
       "      <td>TR</td>\n",
       "      <td>Point</td>\n",
       "      <td>28.98009</td>\n",
       "      <td>41.00620</td>\n",
       "      <td>False</td>\n",
       "    </tr>\n",
       "    <tr>\n",
       "      <th>2</th>\n",
       "      <td>10059872</td>\n",
       "      <td>Hong Kong, Hong Kong Island, Hong Kong</td>\n",
       "      <td>Central &amp; Western District</td>\n",
       "      <td>Central &amp; Western</td>\n",
       "      <td>Hong Kong</td>\n",
       "      <td>Hong Kong</td>\n",
       "      <td>HK</td>\n",
       "      <td>Point</td>\n",
       "      <td>114.15027</td>\n",
       "      <td>22.28158</td>\n",
       "      <td>True</td>\n",
       "    </tr>\n",
       "  </tbody>\n",
       "</table>\n",
       "</div>"
      ],
      "text/plain": [
       "        _id                                  street  \\\n",
       "0   1003530             New York, NY, United States   \n",
       "1  10133554                Fatih , İstanbul, Turkey   \n",
       "2  10059872  Hong Kong, Hong Kong Island, Hong Kong   \n",
       "\n",
       "                       suburb    government_area     market        country  \\\n",
       "0                   Manhattan    Upper West Side   New York  United States   \n",
       "1                       Fatih              Fatih   Istanbul         Turkey   \n",
       "2  Central & Western District  Central & Western  Hong Kong      Hong Kong   \n",
       "\n",
       "  country_code location_type  longitude  latitude  is_location_exact  \n",
       "0           US         Point  -73.96523  40.79962              False  \n",
       "1           TR         Point   28.98009  41.00620              False  \n",
       "2           HK         Point  114.15027  22.28158               True  "
      ]
     },
     "execution_count": 35,
     "metadata": {},
     "output_type": "execute_result"
    }
   ],
   "source": [
    "df_address.head(3)"
   ]
  },
  {
   "cell_type": "code",
   "execution_count": null,
   "metadata": {},
   "outputs": [],
   "source": [
    "df_address.isnull().sum()"
   ]
  },
  {
   "cell_type": "code",
   "execution_count": 37,
   "metadata": {},
   "outputs": [],
   "source": [
    "# Checking the empty values ('') for all features\n",
    "\n",
    "id_e=[]\n",
    "stre_e=[]\n",
    "suburb_e=[]\n",
    "gov_e=[]\n",
    "mark_e=[]\n",
    "cntry_e=[]\n",
    "cntry_co_e=[]\n",
    "loc_ty_e=[]\n",
    "long_e=[]\n",
    "lat_e=[]\n",
    "is_loc_tr_e=[]\n",
    "for index,row in df_address.iterrows():\n",
    "    if row[\"_id\"] == '':\n",
    "        id_e.append(index)\n",
    "\n",
    "    if row[\"street\"] == '':\n",
    "        stre_e.append(index)\n",
    "        \n",
    "    if row[\"suburb\"] == '':\n",
    "        suburb_e.append(index)\n",
    "\n",
    "    if row[\"government_area\"] == '':\n",
    "        gov_e.append(index)\n",
    "\n",
    "    if row[\"market\"] == '':\n",
    "        mark_e.append(index)\n",
    "\n",
    "    if row[\"country\"] == '':\n",
    "        cntry_e.append(index)\n",
    "    \n",
    "    if row[\"country_code\"] == '':\n",
    "        cntry_co_e.append(index)\n",
    "\n",
    "    if row[\"location_type\"] == '':\n",
    "        loc_ty_e.append(index) \n",
    "\n",
    "    if row[\"longitude\"] == '':\n",
    "        long_e.append(index)\n",
    "\n",
    "    if row[\"latitude\"] == '':\n",
    "        lat_e.append(index)\n",
    "\n",
    "    if row[\"is_location_exact\"] == '':\n",
    "        is_loc_tr_e.append(index)   "
   ]
  },
  {
   "cell_type": "code",
   "execution_count": null,
   "metadata": {},
   "outputs": [],
   "source": [
    "empty_columns=[id_e,stre_e,suburb_e,gov_e,mark_e,cntry_e,cntry_co_e,loc_ty_e,long_e,lat_e,is_loc_tr_e]\n",
    "for i in empty_columns:\n",
    "    print(len(i))"
   ]
  },
  {
   "cell_type": "code",
   "execution_count": 39,
   "metadata": {},
   "outputs": [],
   "source": [
    "# Handling the empty values and Boolian Values\n",
    "# \"suburb\" and \"market\" have a empty values\n",
    "\n",
    "df_address[\"suburb\"]= df_address[\"suburb\"].replace({'':\"Not Specified\"})\n",
    "df_address[\"market\"]= df_address[\"market\"].replace({'':\"Not Specified\"})\n",
    "df_address[\"is_location_exact\"]= df_address[\"is_location_exact\"].map({False:\"No\", True:\"Yes\"})"
   ]
  },
  {
   "cell_type": "code",
   "execution_count": null,
   "metadata": {},
   "outputs": [],
   "source": [
    "df_address.head()"
   ]
  },
  {
   "cell_type": "code",
   "execution_count": null,
   "metadata": {},
   "outputs": [],
   "source": [
    "data['availability']"
   ]
  },
  {
   "cell_type": "code",
   "execution_count": 42,
   "metadata": {},
   "outputs": [],
   "source": [
    "availabe_columns= {'_id':[], 'availability_30':[], 'availability_60':[], 'availability_90':[], 'availability_365':[]}\n",
    "\n",
    "for i in data[\"_id\"]:\n",
    "    availabe_columns[\"_id\"].append(i)\n",
    "for i in data[\"availability\"]:\n",
    "    availabe_columns[\"availability_30\"].append(i[\"availability_30\"])\n",
    "    availabe_columns[\"availability_60\"].append(i[\"availability_60\"])\n",
    "    availabe_columns[\"availability_90\"].append(i[\"availability_90\"])\n",
    "    availabe_columns[\"availability_365\"].append(i[\"availability_365\"])"
   ]
  },
  {
   "cell_type": "code",
   "execution_count": null,
   "metadata": {},
   "outputs": [],
   "source": [
    "availabe_columns"
   ]
  },
  {
   "cell_type": "code",
   "execution_count": 44,
   "metadata": {},
   "outputs": [
    {
     "data": {
      "text/plain": [
       "5"
      ]
     },
     "execution_count": 44,
     "metadata": {},
     "output_type": "execute_result"
    }
   ],
   "source": [
    "len(availabe_columns)"
   ]
  },
  {
   "cell_type": "code",
   "execution_count": null,
   "metadata": {},
   "outputs": [],
   "source": [
    "df_availability=pd.DataFrame(availabe_columns)\n",
    "df_availability"
   ]
  },
  {
   "cell_type": "code",
   "execution_count": 47,
   "metadata": {},
   "outputs": [
    {
     "data": {
      "text/plain": [
       "_id                 0\n",
       "availability_30     0\n",
       "availability_60     0\n",
       "availability_90     0\n",
       "availability_365    0\n",
       "dtype: int64"
      ]
     },
     "execution_count": 47,
     "metadata": {},
     "output_type": "execute_result"
    }
   ],
   "source": [
    "df_availability.isnull().sum()"
   ]
  },
  {
   "cell_type": "code",
   "execution_count": 48,
   "metadata": {},
   "outputs": [
    {
     "data": {
      "text/plain": [
       "_id                 int64\n",
       "availability_30     int64\n",
       "availability_60     int64\n",
       "availability_90     int64\n",
       "availability_365    int64\n",
       "dtype: object"
      ]
     },
     "execution_count": 48,
     "metadata": {},
     "output_type": "execute_result"
    }
   ],
   "source": [
    "df_availability.dtypes"
   ]
  },
  {
   "cell_type": "code",
   "execution_count": null,
   "metadata": {},
   "outputs": [],
   "source": [
    "data['amenities']"
   ]
  },
  {
   "cell_type": "code",
   "execution_count": 50,
   "metadata": {},
   "outputs": [],
   "source": [
    "# Initialize the dictionary to store amenities\n",
    "amenities_columns = {\n",
    "    '_id': [],\n",
    "    'amenities': []\n",
    "}\n",
    "\n",
    "# Loop through the DataFrame to populate the dictionary\n",
    "for index, row in data.iterrows():\n",
    "    amenities_columns['_id'].append(row['_id'])\n",
    "    amenities_columns['amenities'].append(row['amenities'])  # Assuming amenities is a list or string\n"
   ]
  },
  {
   "cell_type": "code",
   "execution_count": null,
   "metadata": {},
   "outputs": [],
   "source": [
    "amenities_columns"
   ]
  },
  {
   "cell_type": "code",
   "execution_count": null,
   "metadata": {},
   "outputs": [],
   "source": [
    "df_amenities = pd.DataFrame(amenities_columns)\n",
    "df_amenities"
   ]
  },
  {
   "cell_type": "code",
   "execution_count": 53,
   "metadata": {},
   "outputs": [],
   "source": [
    "def sort_amenities(x):\n",
    "    a= x\n",
    "    a.sort()\n",
    "    return a\n"
   ]
  },
  {
   "cell_type": "code",
   "execution_count": 54,
   "metadata": {},
   "outputs": [],
   "source": [
    "df_amenities[\"amenities\"]= df_amenities[\"amenities\"].apply(lambda x: sort_amenities(x))"
   ]
  },
  {
   "cell_type": "code",
   "execution_count": 55,
   "metadata": {},
   "outputs": [
    {
     "data": {
      "text/plain": [
       "_id          0\n",
       "amenities    0\n",
       "dtype: int64"
      ]
     },
     "execution_count": 55,
     "metadata": {},
     "output_type": "execute_result"
    }
   ],
   "source": [
    "df_amenities.isnull().sum()"
   ]
  },
  {
   "cell_type": "code",
   "execution_count": 56,
   "metadata": {},
   "outputs": [
    {
     "data": {
      "text/plain": [
       "_id           int64\n",
       "amenities    object\n",
       "dtype: object"
      ]
     },
     "execution_count": 56,
     "metadata": {},
     "output_type": "execute_result"
    }
   ],
   "source": [
    "df_amenities.dtypes"
   ]
  },
  {
   "cell_type": "code",
   "execution_count": 58,
   "metadata": {},
   "outputs": [],
   "source": [
    "data= pd.merge(data, df_host_1, on=\"_id\")\n",
    "data= pd.merge(data, df_address, on=\"_id\")\n",
    "data= pd.merge(data, df_availability, on=\"_id\")\n",
    "data= pd.merge(data, df_amenities, on=\"_id\")"
   ]
  },
  {
   "cell_type": "code",
   "execution_count": null,
   "metadata": {},
   "outputs": [],
   "source": [
    "import pandas as pd\n",
    "\n",
    "\n",
    "df=pd.read_csv(r\"C:\\Users\\ss996\\OneDrive\\Desktop\\Projects\\P3-Airbnb\")"
   ]
  },
  {
   "cell_type": "code",
   "execution_count": null,
   "metadata": {},
   "outputs": [],
   "source": []
  }
 ],
 "metadata": {
  "kernelspec": {
   "display_name": "python3.12",
   "language": "python",
   "name": "python3"
  },
  "language_info": {
   "codemirror_mode": {
    "name": "ipython",
    "version": 3
   },
   "file_extension": ".py",
   "mimetype": "text/x-python",
   "name": "python",
   "nbconvert_exporter": "python",
   "pygments_lexer": "ipython3",
   "version": "3.12.3"
  }
 },
 "nbformat": 4,
 "nbformat_minor": 2
}
